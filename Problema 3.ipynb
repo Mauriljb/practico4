{
 "cells": [
  {
   "cell_type": "code",
   "execution_count": 1,
   "metadata": {},
   "outputs": [],
   "source": [
    "from math import *\n",
    "import numpy as np\n",
    "import matplotlib.pyplot as plt\n",
    "import seaborn as sns\n",
    "import scipy.stats as st\n",
    "import random\n",
    "import functools"
   ]
  },
  {
   "cell_type": "code",
   "execution_count": 2,
   "metadata": {},
   "outputs": [],
   "source": [
    "sns.set()"
   ]
  },
  {
   "cell_type": "code",
   "execution_count": 3,
   "metadata": {},
   "outputs": [],
   "source": [
    "#exporto columnas\n",
    "M = np.genfromtxt('datos2.dat', delimiter=',', usecols=0) #magnitud\n",
    "f = np.genfromtxt('datos2.dat', delimiter=',', usecols=1) #frecuencia (es el fi)"
   ]
  },
  {
   "cell_type": "code",
   "execution_count": 4,
   "metadata": {},
   "outputs": [],
   "source": [
    "#errores\n",
    "e_in = np.genfromtxt('errores_inferiores.dat', delimiter=',', usecols=1) #puntos inferiores\n",
    "e_su = np.genfromtxt('errores_superiores.dat', delimiter=',', usecols=1) #puntos superiores"
   ]
  },
  {
   "cell_type": "code",
   "execution_count": 5,
   "metadata": {},
   "outputs": [],
   "source": [
    "#largo de las barras de error\n",
    "d_in = f - e_in  #inferior\n",
    "d_su = e_su - f  #superior"
   ]
  },
  {
   "cell_type": "code",
   "execution_count": 6,
   "metadata": {},
   "outputs": [],
   "source": [
    "#sigmas de las gaussianas\n",
    "sigma= (e_su - e_in)/2"
   ]
  },
  {
   "cell_type": "code",
   "execution_count": 7,
   "metadata": {},
   "outputs": [],
   "source": [
    "#sigmas\n",
    "sig_fi0= 0.00002 \n",
    "sig_M0=0.002\n",
    "sig_a=0.002\n",
    "\n",
    "proposal=functools.partial(np.random.multivariate_normal, cov = [[sig_fi0, 0 , 0], [0, sig_M0, 0], [0,0,sig_a]])"
   ]
  },
  {
   "cell_type": "code",
   "execution_count": 8,
   "metadata": {},
   "outputs": [
    {
     "ename": "NameError",
     "evalue": "name 'model' is not defined",
     "output_type": "error",
     "traceback": [
      "\u001b[0;31m---------------------------------------------------------------------------\u001b[0m",
      "\u001b[0;31mNameError\u001b[0m                                 Traceback (most recent call last)",
      "\u001b[0;32m<ipython-input-8-27f6bd405228>\u001b[0m in \u001b[0;36m<module>\u001b[0;34m\u001b[0m\n\u001b[1;32m      3\u001b[0m \u001b[0;34m\u001b[0m\u001b[0m\n\u001b[1;32m      4\u001b[0m \u001b[0;31m#valores de Blanton\u001b[0m\u001b[0;34m\u001b[0m\u001b[0;34m\u001b[0m\u001b[0;34m\u001b[0m\u001b[0m\n\u001b[0;32m----> 5\u001b[0;31m \u001b[0msy\u001b[0m \u001b[0;34m=\u001b[0m \u001b[0mmodel\u001b[0m\u001b[0;34m(\u001b[0m\u001b[0msx\u001b[0m\u001b[0;34m,\u001b[0m \u001b[0mfi0\u001b[0m\u001b[0;34m=\u001b[0m\u001b[0;36m0.0146\u001b[0m\u001b[0;34m,\u001b[0m \u001b[0mM0\u001b[0m\u001b[0;34m=\u001b[0m\u001b[0;34m-\u001b[0m\u001b[0;36m20.83\u001b[0m\u001b[0;34m,\u001b[0m \u001b[0ma\u001b[0m\u001b[0;34m=\u001b[0m\u001b[0;34m-\u001b[0m\u001b[0;36m1.2\u001b[0m\u001b[0;34m)\u001b[0m\u001b[0;34m\u001b[0m\u001b[0;34m\u001b[0m\u001b[0m\n\u001b[0m",
      "\u001b[0;31mNameError\u001b[0m: name 'model' is not defined"
     ]
    }
   ],
   "source": [
    "#rango de M\n",
    "sx = np.linspace(-23.5, -16, 100)\n",
    "\n",
    "#valores de Blanton\n",
    "sy = model(sx, fi0=0.0146, M0=-20.83, a=-1.2)"
   ]
  },
  {
   "cell_type": "code",
   "execution_count": null,
   "metadata": {},
   "outputs": [],
   "source": [
    "def likelihood(M, f, fi0, M0, a, sigma):\n",
    "    f_model = model(M,fi0,M0,a)\n",
    "    \n",
    "    #gaussiana centrada en el f(o fi) del modelo y sigma definido arriba:\n",
    "    prob= st.norm(f_model, sigma).pdf(f) #evaluo en f, es VECTORIAL\n",
    "    \n",
    "    #las multiplico a todas:\n",
    "    like=prob.prod()\n",
    "    return like"
   ]
  },
  {
   "cell_type": "code",
   "execution_count": null,
   "metadata": {},
   "outputs": [],
   "source": [
    "#modelo\n",
    "def model(M,fi0,M0,a):\n",
    "    lista=[]\n",
    "    for i in range(len(M)):\n",
    "        y=0.4 * log(10) * fi0 * (10**(-0.4*(M[i]-M0)*(a+1))) * exp(-10**(-0.4*(M[i]-M0))) #schechter\n",
    "        lista.append(y)\n",
    "    return lista"
   ]
  },
  {
   "cell_type": "code",
   "execution_count": null,
   "metadata": {},
   "outputs": [],
   "source": [
    "#prior plano\n",
    "def prior(fi0,M0,a):\n",
    "    p=st.uniform(loc=[0.0004, -21.9, -1.9], scale=[0.0396, 2.8, 1.899])  #defino el cubo donde es constante\n",
    "    r=p.pdf([fi0,M0,a]) #evaluo en el punto\n",
    "    i=r.prod()   #los multiplico\n",
    "    return i"
   ]
  },
  {
   "cell_type": "code",
   "execution_count": null,
   "metadata": {},
   "outputs": [],
   "source": [
    "def posterior(M, f, fi0, M0, a, sigma=sigma):    \n",
    "    pos= likelihood(M,f,fi0,M0,a,sigma) * prior(fi0,M0,a)\n",
    "    return(pos)"
   ]
  },
  {
   "cell_type": "markdown",
   "metadata": {},
   "source": [
    "Se quiere visualizar las propiedades de convergencia de varias cadenas, para ello se realizarán 5 cadenas y luego se grafican los parámetros en función de los pasos."
   ]
  },
  {
   "cell_type": "code",
   "execution_count": null,
   "metadata": {},
   "outputs": [],
   "source": [
    "cadenas_fi0=[] #aca se van a guardar as nuevas cadenas\n",
    "cadenas_M0=[]\n",
    "cadenas_a=[]\n",
    "\n",
    "for j in range(5):\n",
    "    post2=0\n",
    "    while post2 < (1.e-8): #es como un for\n",
    "        fi0_inic2=random.uniform(0.0004, 0.04)\n",
    "        M0_inic2=random.uniform(-21.9, -19.1)\n",
    "        a_inic2=random.uniform(-1.9, -0.001)\n",
    "        post2= posterior(M, f, fi0_inic2, M0_inic2, a_inic2) #evaluo en los parametros iniciales\n",
    "    \n",
    "    cadena_fi02= [fi0_inic2]\n",
    "    cadena_M02= [M0_inic2]\n",
    "    cadena_a2= [a_inic2]\n",
    "    #posteriores=[post]\n",
    "    n_pasos2=5000\n",
    "    \n",
    "    for i in range(n_pasos2):\n",
    "        fi0_new2, M0_new2, a_new2= proposal([fi0_inic2, M0_inic2, a_inic2])\n",
    "        post_new2= posterior(M, f, fi0_new2, M0_new2, a_new2) \n",
    "        \n",
    "        prob_aceptacion2= min(1, post_new2/post2)\n",
    "        u2=random.random()\n",
    "        if u2 < prob_aceptacion2 : #condcion para aceptar el punto\n",
    "            fi0_inic2= fi0_new2\n",
    "            M0_inic2= M0_new2\n",
    "            a_inic2= a_new2\n",
    "            post2=post_new2\n",
    "        cadena_fi02.append(fi0_inic2)\n",
    "        cadena_M02.append(M0_inic2)\n",
    "        cadena_a2.append(a_inic2)\n",
    "        #posteriores.append(post)\n",
    "    \n",
    "    cadenas_fi0.append(cadena_fi02)\n",
    "    cadenas_M0.append(cadena_M02)\n",
    "    cadenas_a.append(cadena_a2)"
   ]
  },
  {
   "cell_type": "code",
   "execution_count": null,
   "metadata": {},
   "outputs": [],
   "source": [
    "#graficos\n",
    "plt.figure(figsize=(10,12))\n",
    "\n",
    "plt.subplot(3,1,1)\n",
    "plt.plot(cadenas_fi0[0])\n",
    "plt.plot(cadenas_fi0[1])\n",
    "plt.plot(cadenas_fi0[2])\n",
    "plt.plot(cadenas_fi0[3])\n",
    "plt.plot(cadenas_fi0[4])\n",
    "plt.axhline(0.0146, color='black', label='Blanton', ls=\"dotted\") #valor esperado\n",
    "plt.legend(loc='upper right')\n",
    "plt.ylabel('$\\phi_*$')\n",
    "\n",
    "plt.subplot(3,1,2)\n",
    "plt.plot(cadenas_M0[0])\n",
    "plt.plot(cadenas_M0[1])\n",
    "plt.plot(cadenas_M0[2])\n",
    "plt.plot(cadenas_M0[3])\n",
    "plt.plot(cadenas_M0[4])\n",
    "plt.axhline(-20.83, color='black', label='Blanton', ls=\"dotted\")\n",
    "plt.legend(loc='upper right')\n",
    "plt.ylabel('$M_*$')\n",
    "\n",
    "plt.subplot(3,1,3)\n",
    "plt.plot(cadenas_a[0])\n",
    "plt.plot(cadenas_a[1])\n",
    "plt.plot(cadenas_a[2])\n",
    "plt.plot(cadenas_a[3])\n",
    "plt.plot(cadenas_a[4])\n",
    "plt.axhline(-1.2, color='black', label='Blanton', ls=\"dotted\")\n",
    "plt.legend(loc='upper right')\n",
    "plt.xlabel('Número de pasos')\n",
    "plt.ylabel('alfa')"
   ]
  },
  {
   "cell_type": "markdown",
   "metadata": {},
   "source": [
    "Al visualizar las cadenas se nota que todas ellas convergen alrededor del mismo valor (los esperados). Se vuelve a notar el \"quemado\" aproximadamente a los 500 pasos, pero para el calculo de los promedios se considera a partir del paso 1000."
   ]
  },
  {
   "cell_type": "code",
   "execution_count": null,
   "metadata": {},
   "outputs": [],
   "source": [
    "#promedios considerando a partir de 1000 (quemado)\n",
    "promedios_fi0=[] #listas con los promedios de cada cadena\n",
    "promedios_M0=[]\n",
    "promedios_a=[]\n",
    "\n",
    "for i in range(5): #numero de cadenas\n",
    "    quema_fi0=cadenas_fi0[i][1000:]\n",
    "    quema_M0=cadenas_M0[i][1000:]\n",
    "    quema_a=cadenas_a[i][1000:]\n",
    "    \n",
    "    prom_fi0=np.mean(quema_fi0)\n",
    "    prom_M0=np.mean(quema_M0)\n",
    "    prom_a=np.mean(quema_a)\n",
    "    \n",
    "    promedios_fi0.append(prom_fi0)\n",
    "    promedios_M0.append(prom_M0)\n",
    "    promedios_a.append(prom_a)"
   ]
  },
  {
   "cell_type": "code",
   "execution_count": null,
   "metadata": {},
   "outputs": [],
   "source": [
    "fi0_encontrado=np.mean(promedios_fi0)\n",
    "print('El valor encontrado para el parámetro fi0 es:', fi0_encontrado)\n",
    "\n",
    "M0_encontrado=np.mean(promedios_M0)\n",
    "print('El valor encontrado para el parámetro M0 es:', M0_encontrado)\n",
    "\n",
    "a_encontrado=np.mean(promedios_a)\n",
    "print('El valor encontrado para el parámetro a es:', a_encontrado)"
   ]
  },
  {
   "cell_type": "code",
   "execution_count": null,
   "metadata": {},
   "outputs": [],
   "source": [
    "plt.figure(figsize=(10,6))\n",
    "#datos con errores\n",
    "plt.errorbar(M, f, yerr= (d_in, d_su), marker='o', markersize=3, color='indigo', ecolor='indigo', elinewidth=1, linewidth=0.5, label='Datos')\n",
    "plt.plot(M,e_in, '_', color='indigo')\n",
    "plt.plot(M,e_su, '_', color='indigo')\n",
    "#mis parámetros:\n",
    "plt.plot(sx,model(sx, fi0=0.01492, M0=-20.82, a=-1.19), color='red', label='Parámetros obtenidos')\n",
    "\n",
    "plt.yscale('log')\n",
    "plt.xlabel('$M_r$')\n",
    "plt.ylabel('$\\phi(M_r)$')\n",
    "plt.legend(loc='lower right')\n",
    "plt.show()"
   ]
  },
  {
   "cell_type": "markdown",
   "metadata": {},
   "source": [
    "\n",
    "\n",
    "Al observar el grafico se ve que los valores obtenidos ajustan bien a los puntos, cayendo dentro de las barras de error de la mayoría de ellos.\n",
    "\n",
    "Por otro lado, al comparar los valores con los que obtuvieron Blanton et al. 2001, los encontrados con las cadenas caen dentro del error estimado por ellos, por lo que el método fue efectivo para encontrar los parámetros que ajustan a la función.\n",
    "Conclusiones\n",
    "\n",
    "Los métodos Bayesianos, frecuentemente implementados usando las Cadenas de Markov Monte Carlo (MCMC), proveen una manera poderosa de estimar los parámetros de un modelo realizando un muestreo aleatorio del espacio de parámetros.\n",
    "\n",
    "En este caso se logró ajustar la función de Schechter a la función de luminosidad de galaxias obtenida por Blanton et al. 2001 por medio de la implementación del algoritmo Metrópolis-Hastings para llevar a cabo realizaciones de MCMC.\n",
    "\n",
    "Los parámetros encontrados son:\n",
    "$$\\phi_* = 0.01492, M_*=-20.82, \\alpha=-1.19$$\n",
    "\n",
    "los cualesajustan bien a los datos y pertenecen al intervalo de parámetros encontrados por Blanton et al. 2001.\n"
   ]
  },
  {
   "cell_type": "code",
   "execution_count": null,
   "metadata": {},
   "outputs": [],
   "source": []
  }
 ],
 "metadata": {
  "kernelspec": {
   "display_name": "Python 3",
   "language": "python",
   "name": "python3"
  },
  "language_info": {
   "codemirror_mode": {
    "name": "ipython",
    "version": 3
   },
   "file_extension": ".py",
   "mimetype": "text/x-python",
   "name": "python",
   "nbconvert_exporter": "python",
   "pygments_lexer": "ipython3",
   "version": "3.7.3"
  }
 },
 "nbformat": 4,
 "nbformat_minor": 2
}
